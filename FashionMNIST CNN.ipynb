{
 "cells": [
  {
   "cell_type": "code",
   "execution_count": null,
   "id": "3063e36d",
   "metadata": {},
   "outputs": [],
   "source": [
    "import torch\n",
    "import torchvision\n",
    "import numpy as np\n",
    "from PIL import Image\n",
    "import matplotlib.pyplot as plt\n",
    "%matplotlib inline\n",
    "import torch.optim as optim\n",
    "import torch.nn as nn\n",
    "import torch.nn.functional as F\n",
    "from torchvision import datasets, transforms\n",
    "import time\n",
    "import os\n",
    "os.environ[\"KMP_DUPLICATE_LIB_OK\"]=\"TRUE\""
   ]
  },
  {
   "cell_type": "code",
   "execution_count": 2,
   "id": "77d813cf",
   "metadata": {},
   "outputs": [
    {
     "data": {
      "text/plain": [
       "True"
      ]
     },
     "execution_count": 2,
     "metadata": {},
     "output_type": "execute_result"
    }
   ],
   "source": [
    "torch.cuda.is_available()"
   ]
  },
  {
   "cell_type": "code",
   "execution_count": 3,
   "id": "215871c6",
   "metadata": {},
   "outputs": [],
   "source": [
    "transform = transforms.Compose([\n",
    "    transforms.ToTensor(),\n",
    "    transforms.Normalize((0.5,), (0.5,))\n",
    "])\n",
    "train_data = datasets.FashionMNIST(root='data', train=True, download=True, transform=transform)"
   ]
  },
  {
   "cell_type": "code",
   "execution_count": 4,
   "id": "744c53ab",
   "metadata": {},
   "outputs": [],
   "source": [
    "test_data = datasets.FashionMNIST(root='data', train=False, download=True, transform=transform)\n",
    "b_size = 128\n",
    "train_loader = torch.utils.data.DataLoader(train_data, batch_size=b_size, shuffle=True)\n",
    "test_loader = torch.utils.data.DataLoader(test_data, batch_size=b_size, shuffle=True)"
   ]
  },
  {
   "cell_type": "code",
   "execution_count": 5,
   "id": "ab2434b6",
   "metadata": {},
   "outputs": [
    {
     "data": {
      "image/png": "[encoded data removed]",
      "text/plain": [
       "<Figure size 640x480 with 10 Axes>"
      ]
     },
     "metadata": {},
     "output_type": "display_data"
    }
   ],
   "source": [
    "images = []\n",
    "labels = []\n",
    "for i in range(100):\n",
    "    image, label = train_data[i]\n",
    "    if label not in labels:\n",
    "        labels.append(label)\n",
    "        images.append(image)\n",
    "        \n",
    "fig, axes = plt.subplots(nrows=2, ncols=5)\n",
    "for i, img in enumerate(images):\n",
    "    row = i // 5\n",
    "    col = i % 5\n",
    "    axes[row][col].imshow(img.numpy().reshape(28, 28), cmap='gray')\n",
    "plt.show()"
   ]
  },
  {
   "cell_type": "code",
   "execution_count": 6,
   "id": "43fa9746",
   "metadata": {},
   "outputs": [],
   "source": [
    "class CNN(nn.Module):\n",
    "    def __init__(self):\n",
    "        super(CNN, self).__init__()\n",
    "        \n",
    "        self.layer1 = nn.Sequential(\n",
    "            nn.Conv2d(in_channels = 1, out_channels = 32, kernel_size = 2, padding = 1),\n",
    "            nn.BatchNorm2d(32),\n",
    "            nn.ReLU(),\n",
    "            nn.MaxPool2d(kernel_size = 2, stride = 2),\n",
    "            nn.Dropout2d(0.1))\n",
    "        self.layer2 = nn.Sequential(\n",
    "            nn.Conv2d(in_channels = 32, out_channels = 64, kernel_size = 2),\n",
    "            nn.BatchNorm2d(64),\n",
    "            nn.ReLU(),\n",
    "            nn.MaxPool2d(kernel_size = 2, stride = 2),\n",
    "            nn.Dropout2d(0.2))\n",
    "        self.layer3 = nn.Sequential(\n",
    "            nn.Conv2d(in_channels = 64, out_channels = 128, kernel_size = 5, padding = 1),\n",
    "            nn.BatchNorm2d(128),\n",
    "            nn.ReLU(),\n",
    "            nn.MaxPool2d(kernel_size = 2, stride = 2,padding=1),\n",
    "            nn.Dropout2d(0.3)) \n",
    "        \n",
    "        self.fc1 = nn.Linear(in_features = 128*3*3, out_features = 512)\n",
    "        self.fc2 = nn.Linear(512, 10)\n",
    "        \n",
    "    def forward(self, x):\n",
    "        out = self.layer1(x)\n",
    "        out = self.layer2(out)\n",
    "        out = self.layer3(out)\n",
    "        out = out.reshape(out.size(0), -1)\n",
    "        out = self.fc1(out)\n",
    "        out = self.fc2(out)\n",
    "        \n",
    "        return out"
   ]
  },
  {
   "cell_type": "code",
   "execution_count": 7,
   "id": "bec949c6",
   "metadata": {},
   "outputs": [
    {
     "name": "stdout",
     "output_type": "stream",
     "text": [
      "CNN(\n",
      "  (layer1): Sequential(\n",
      "    (0): Conv2d(1, 32, kernel_size=(2, 2), stride=(1, 1), padding=(1, 1))\n",
      "    (1): BatchNorm2d(32, eps=1e-05, momentum=0.1, affine=True, track_running_stats=True)\n",
      "    (2): ReLU()\n",
      "    (3): MaxPool2d(kernel_size=2, stride=2, padding=0, dilation=1, ceil_mode=False)\n",
      "    (4): Dropout2d(p=0.1, inplace=False)\n",
      "  )\n",
      "  (layer2): Sequential(\n",
      "    (0): Conv2d(32, 64, kernel_size=(2, 2), stride=(1, 1))\n",
      "    (1): BatchNorm2d(64, eps=1e-05, momentum=0.1, affine=True, track_running_stats=True)\n",
      "    (2): ReLU()\n",
      "    (3): MaxPool2d(kernel_size=2, stride=2, padding=0, dilation=1, ceil_mode=False)\n",
      "    (4): Dropout2d(p=0.2, inplace=False)\n",
      "  )\n",
      "  (layer3): Sequential(\n",
      "    (0): Conv2d(64, 128, kernel_size=(5, 5), stride=(1, 1), padding=(1, 1))\n",
      "    (1): BatchNorm2d(128, eps=1e-05, momentum=0.1, affine=True, track_running_stats=True)\n",
      "    (2): ReLU()\n",
      "    (3): MaxPool2d(kernel_size=2, stride=2, padding=1, dilation=1, ceil_mode=False)\n",
      "    (4): Dropout2d(p=0.3, inplace=False)\n",
      "  )\n",
      "  (fc1): Linear(in_features=1152, out_features=512, bias=True)\n",
      "  (fc2): Linear(in_features=512, out_features=10, bias=True)\n",
      ")\n"
     ]
    }
   ],
   "source": [
    "model = CNN()\n",
    "print(model)"
   ]
  },
  {
   "cell_type": "code",
   "execution_count": 8,
   "id": "98da9c7c",
   "metadata": {},
   "outputs": [
    {
     "name": "stdout",
     "output_type": "stream",
     "text": [
      "=================================================================\n",
      "Layer (type:depth-idx)                   Param #\n",
      "=================================================================\n",
      "├─Sequential: 1-1                        --\n",
      "|    └─Conv2d: 2-1                       160\n",
      "|    └─BatchNorm2d: 2-2                  64\n",
      "|    └─ReLU: 2-3                         --\n",
      "|    └─MaxPool2d: 2-4                    --\n",
      "|    └─Dropout2d: 2-5                    --\n",
      "├─Sequential: 1-2                        --\n",
      "|    └─Conv2d: 2-6                       8,256\n",
      "|    └─BatchNorm2d: 2-7                  128\n",
      "|    └─ReLU: 2-8                         --\n",
      "|    └─MaxPool2d: 2-9                    --\n",
      "|    └─Dropout2d: 2-10                   --\n",
      "├─Sequential: 1-3                        --\n",
      "|    └─Conv2d: 2-11                      204,928\n",
      "|    └─BatchNorm2d: 2-12                 256\n",
      "|    └─ReLU: 2-13                        --\n",
      "|    └─MaxPool2d: 2-14                   --\n",
      "|    └─Dropout2d: 2-15                   --\n",
      "├─Linear: 1-4                            590,336\n",
      "├─Linear: 1-5                            5,130\n",
      "=================================================================\n",
      "Total params: 809,258\n",
      "Trainable params: 809,258\n",
      "Non-trainable params: 0\n",
      "=================================================================\n"
     ]
    },
    {
     "data": {
      "text/plain": [
       "=================================================================\n",
       "Layer (type:depth-idx)                   Param #\n",
       "=================================================================\n",
       "├─Sequential: 1-1                        --\n",
       "|    └─Conv2d: 2-1                       160\n",
       "|    └─BatchNorm2d: 2-2                  64\n",
       "|    └─ReLU: 2-3                         --\n",
       "|    └─MaxPool2d: 2-4                    --\n",
       "|    └─Dropout2d: 2-5                    --\n",
       "├─Sequential: 1-2                        --\n",
       "|    └─Conv2d: 2-6                       8,256\n",
       "|    └─BatchNorm2d: 2-7                  128\n",
       "|    └─ReLU: 2-8                         --\n",
       "|    └─MaxPool2d: 2-9                    --\n",
       "|    └─Dropout2d: 2-10                   --\n",
       "├─Sequential: 1-3                        --\n",
       "|    └─Conv2d: 2-11                      204,928\n",
       "|    └─BatchNorm2d: 2-12                 256\n",
       "|    └─ReLU: 2-13                        --\n",
       "|    └─MaxPool2d: 2-14                   --\n",
       "|    └─Dropout2d: 2-15                   --\n",
       "├─Linear: 1-4                            590,336\n",
       "├─Linear: 1-5                            5,130\n",
       "=================================================================\n",
       "Total params: 809,258\n",
       "Trainable params: 809,258\n",
       "Non-trainable params: 0\n",
       "================================================================="
      ]
     },
     "execution_count": 8,
     "metadata": {},
     "output_type": "execute_result"
    }
   ],
   "source": [
    "from torchsummary import summary\n",
    "\n",
    "summary(model)"
   ]
  },
  {
   "cell_type": "code",
   "execution_count": 9,
   "id": "70c13058",
   "metadata": {},
   "outputs": [],
   "source": [
    "device = torch.device(\"cuda:0\" if torch.cuda.is_available() else \"cpu\")\n",
    "model.to(device)\n",
    "\n",
    "loss = torch.nn.CrossEntropyLoss()\n",
    "training = optim.Adam(model.parameters(), lr = .001)\n",
    "num_epochs = 10"
   ]
  },
  {
   "cell_type": "code",
   "execution_count": 10,
   "id": "837d9164",
   "metadata": {},
   "outputs": [],
   "source": [
    "def trainer(model, loss, training, num_epochs):\n",
    "    train_losses = []\n",
    "    test_losses = []\n",
    "    train_accs = []\n",
    "    test_accs = []\n",
    "    for epoch in range(num_epochs):\n",
    "        train_iters, train_passed  = 0, 0\n",
    "        train_loss, train_acc = 0., 0.\n",
    "        start=time.time()\n",
    "        \n",
    "        model.train()\n",
    "        for X, y in train_loader:\n",
    "            X, y = X.to(device), y.to(device)\n",
    "            training.zero_grad()\n",
    "            y_pred = model(X)\n",
    "            l = loss(y_pred, y)\n",
    "            l.backward()\n",
    "            training.step()\n",
    "            train_loss += l.item()\n",
    "            train_acc += (y_pred.argmax(dim=1) == y).sum().item()\n",
    "            train_iters += 1\n",
    "            train_passed += len(X)\n",
    "        \n",
    "        test_iters, test_passed  = 0, 0\n",
    "        test_loss, test_acc = 0., 0.\n",
    "        model.eval()\n",
    "        for X, y in test_loader:\n",
    "            X, y = X.to(device), y.to(device)\n",
    "            y_pred = model(X)\n",
    "            l = loss(y_pred, y)\n",
    "            test_loss += l.item()\n",
    "            test_acc += (y_pred.argmax(dim=1) == y).sum().item()\n",
    "            test_iters += 1\n",
    "            test_passed += len(X)\n",
    "            \n",
    "        train_losses.append(train_loss / train_iters) \n",
    "        test_losses.append(test_loss / test_iters)\n",
    "        train_accs.append(train_acc / train_passed)\n",
    "        test_accs.append(test_acc / test_passed)\n",
    "            \n",
    "        print(\"Epoch: {}\\n Time taken: {:.2f}\\n train_loss: {}, train_acc: {} \\n test_loss: {}, test_acc: {}\\n\".format(\n",
    "            epoch+1, time.time() - start, train_loss / train_iters, train_acc / train_passed,\n",
    "            test_loss / test_iters, test_acc / test_passed)\n",
    "        )\n",
    "        \n",
    "    eps = range(1, num_epochs+1)\n",
    "    plt.plot(eps, train_losses, label='Train Loss')\n",
    "    plt.plot(eps, test_losses, label='Test Loss')\n",
    "    plt.plot(eps, train_accs, label='Train acc')\n",
    "    plt.plot(eps, test_accs, label='Test acc')\n",
    "    plt.xlabel('Epochs')\n",
    "    plt.ylabel('Loss/Accuracy')\n",
    "    plt.legend()\n",
    "    plt.show()"
   ]
  },
  {
   "cell_type": "code",
   "execution_count": 12,
   "id": "37e53d6c",
   "metadata": {},
   "outputs": [
    {
     "name": "stdout",
     "output_type": "stream",
     "text": [
      "Epoch: 1\n",
      " Time taken: 25.72\n",
      " train_loss: 0.4951424955495639, train_acc: 0.8184166666666667 \n",
      " test_loss: 0.3991728040236461, test_acc: 0.8526\n",
      "\n",
      "Epoch: 2\n",
      " Time taken: 20.51\n",
      " train_loss: 0.3514733855276982, train_acc: 0.8716166666666667 \n",
      " test_loss: 0.3132096495054945, test_acc: 0.888\n",
      "\n",
      "Epoch: 3\n",
      " Time taken: 20.01\n",
      " train_loss: 0.31853481262985833, train_acc: 0.8831833333333333 \n",
      " test_loss: 0.29149145208582095, test_acc: 0.8934\n",
      "\n",
      "Epoch: 4\n",
      " Time taken: 20.06\n",
      " train_loss: 0.28816720568485604, train_acc: 0.8952166666666667 \n",
      " test_loss: 0.28282828393239007, test_acc: 0.8974\n",
      "\n",
      "Epoch: 5\n",
      " Time taken: 20.37\n",
      " train_loss: 0.27232453376372484, train_acc: 0.90005 \n",
      " test_loss: 0.26004775264595126, test_acc: 0.9057\n",
      "\n",
      "Epoch: 6\n",
      " Time taken: 20.20\n",
      " train_loss: 0.25640283393135455, train_acc: 0.90585 \n",
      " test_loss: 0.26436430706253533, test_acc: 0.9034\n",
      "\n",
      "Epoch: 7\n",
      " Time taken: 19.93\n",
      " train_loss: 0.24527892004897092, train_acc: 0.9110833333333334 \n",
      " test_loss: 0.2632587804824491, test_acc: 0.909\n",
      "\n",
      "Epoch: 8\n",
      " Time taken: 20.11\n",
      " train_loss: 0.23394292666078376, train_acc: 0.9144666666666666 \n",
      " test_loss: 0.25250757825148257, test_acc: 0.9114\n",
      "\n",
      "Epoch: 9\n",
      " Time taken: 20.07\n",
      " train_loss: 0.22445102931975303, train_acc: 0.91725 \n",
      " test_loss: 0.252155837756169, test_acc: 0.9075\n",
      "\n",
      "Epoch: 10\n",
      " Time taken: 20.09\n",
      " train_loss: 0.21294655563480563, train_acc: 0.9206833333333333 \n",
      " test_loss: 0.2645371780742573, test_acc: 0.9065\n",
      "\n"
     ]
    },
    {
     "data": {
      "image/png": "[encoded data removed]",
      "text/plain": [
       "<Figure size 640x480 with 1 Axes>"
      ]
     },
     "metadata": {},
     "output_type": "display_data"
    }
   ],
   "source": [
    "trainer(model, loss, training, num_epochs)"
   ]
  },
  {
   "cell_type": "code",
   "execution_count": null,
   "id": "7e913fac",
   "metadata": {},
   "outputs": [],
   "source": []
  }
 ],
 "metadata": {
  "kernelspec": {
   "display_name": "Python 3 (ipykernel)",
   "language": "python",
   "name": "python3"
  },
  "language_info": {
   "codemirror_mode": {
    "name": "ipython",
    "version": 3
   },
   "file_extension": ".py",
   "mimetype": "text/x-python",
   "name": "python",
   "nbconvert_exporter": "python",
   "pygments_lexer": "ipython3",
   "version": "3.11.4"
  }
 },
 "nbformat": 4,
 "nbformat_minor": 5
}
