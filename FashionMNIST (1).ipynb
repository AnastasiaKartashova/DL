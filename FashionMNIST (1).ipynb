{
 "cells": [
  {
   "cell_type": "code",
   "execution_count": 6,
   "id": "ef06d723",
   "metadata": {},
   "outputs": [],
   "source": [
    "import torch\n",
    "import torchvision\n",
    "import numpy as np\n",
    "from PIL import Image\n",
    "import matplotlib.pyplot as plt\n",
    "%matplotlib inline\n",
    "import torch.optim as optim\n",
    "import torch.nn as nn\n",
    "import torch.nn.functional as F\n",
    "from torchvision import datasets, transforms\n",
    "import time"
   ]
  },
  {
   "cell_type": "code",
   "execution_count": 7,
   "id": "18ffadb8",
   "metadata": {},
   "outputs": [],
   "source": [
    "transform = transforms.Compose([\n",
    "    transforms.ToTensor(),\n",
    "    transforms.Normalize((0.5,), (0.5,))\n",
    "])\n",
    "train_data = datasets.FashionMNIST(root='data', train=True, download=True, transform=transform)"
   ]
  },
  {
   "cell_type": "code",
   "execution_count": 8,
   "id": "8e8fef43",
   "metadata": {},
   "outputs": [],
   "source": [
    "test_data = datasets.FashionMNIST(root='data', train=False, download=True, transform=transform)"
   ]
  },
  {
   "cell_type": "code",
   "execution_count": 9,
   "id": "1d4e9008",
   "metadata": {},
   "outputs": [],
   "source": [
    "b_size = 128\n",
    "train_loader = torch.utils.data.DataLoader(train_data, batch_size=b_size, shuffle=True)\n",
    "test_loader = torch.utils.data.DataLoader(test_data, batch_size=b_size, shuffle=True)"
   ]
  },
  {
   "cell_type": "code",
   "execution_count": 10,
   "id": "7e064602",
   "metadata": {},
   "outputs": [
    {
     "name": "stdout",
     "output_type": "stream",
     "text": [
      "Number of classes: 10\n",
      "Image size: torch.Size([1, 28, 28])\n"
     ]
    }
   ],
   "source": [
    "images = []\n",
    "labels = []\n",
    "for i in range(100):\n",
    "    image, label = train_data[i]\n",
    "    if label not in labels:\n",
    "        labels.append(label)\n",
    "        images.append(image)\n",
    "print('Number of classes:', len(labels))\n",
    "print('Image size:', images[0].shape)"
   ]
  },
  {
   "cell_type": "markdown",
   "id": "4efd8619",
   "metadata": {},
   "source": [
    "Checking whether the data is balanced to chose loss function correctly."
   ]
  },
  {
   "cell_type": "code",
   "execution_count": 12,
   "id": "3e7c1e9f",
   "metadata": {},
   "outputs": [
    {
     "name": "stdout",
     "output_type": "stream",
     "text": [
      "Train set: \n",
      " tensor([6000, 6000, 6000, 6000, 6000, 6000, 6000, 6000, 6000, 6000]) \n",
      "\n",
      "Test set: \n",
      " tensor([1000, 1000, 1000, 1000, 1000, 1000, 1000, 1000, 1000, 1000])\n"
     ]
    }
   ],
   "source": [
    "targets = train_data.targets\n",
    "targets2 = test_data.targets\n",
    "\n",
    "print(\"Train set: \\n\", targets.unique(return_counts = True)[1], '\\n')\n",
    "print(\"Test set: \\n\", targets2.unique(return_counts = True)[1])"
   ]
  },
  {
   "cell_type": "code",
   "execution_count": 13,
   "id": "78efdcf9",
   "metadata": {},
   "outputs": [],
   "source": [
    "model = torch.nn.Sequential(\n",
    "    torch.nn.Flatten(),\n",
    "    torch.nn.Linear(784, 512),\n",
    "    torch.nn.ReLU(),\n",
    "    torch.nn.Dropout(p=0.2),\n",
    "    torch.nn.Linear(512, 256),\n",
    "    torch.nn.ReLU(),\n",
    "    torch.nn.Dropout(p=0.2),\n",
    "    torch.nn.Linear(256, 128),\n",
    "    torch.nn.ReLU(),\n",
    "    torch.nn.Dropout(p=0.2),\n",
    "    torch.nn.Linear(128, 10)\n",
    ")"
   ]
  },
  {
   "cell_type": "code",
   "execution_count": 14,
   "id": "2874bf1e",
   "metadata": {},
   "outputs": [],
   "source": [
    "loss = torch.nn.CrossEntropyLoss()\n",
    "training = optim.Adam(model.parameters(), lr = .01)\n",
    "num_epochs = 10"
   ]
  },
  {
   "cell_type": "code",
   "execution_count": 15,
   "id": "b3b034d0",
   "metadata": {},
   "outputs": [],
   "source": [
    "def trainer(model, loss, training, num_epochs):\n",
    "    train_losses = []\n",
    "    test_losses = []\n",
    "    train_accs = []\n",
    "    test_accs = []\n",
    "    for epoch in range(num_epochs):\n",
    "        train_iters, train_passed  = 0, 0\n",
    "        train_loss, train_acc = 0., 0.\n",
    "        start=time.time()\n",
    "        \n",
    "        model.train()\n",
    "        for X, y in train_loader:\n",
    "            training.zero_grad()\n",
    "            y_pred = model(X)\n",
    "            l = loss(y_pred, y)\n",
    "            l.backward()\n",
    "            training.step()\n",
    "            train_loss += l.item()\n",
    "            train_acc += (y_pred.argmax(dim=1) == y).sum().item()\n",
    "            train_iters += 1\n",
    "            train_passed += len(X)\n",
    "        \n",
    "        test_iters, test_passed  = 0, 0\n",
    "        test_loss, test_acc = 0., 0.\n",
    "        model.eval()\n",
    "        for X, y in test_loader:\n",
    "            y_pred = model(X)\n",
    "            l = loss(y_pred, y)\n",
    "            test_loss += l.item()\n",
    "            test_acc += (y_pred.argmax(dim=1) == y).sum().item()\n",
    "            test_iters += 1\n",
    "            test_passed += len(X)\n",
    "            \n",
    "        train_losses.append(train_loss / train_iters) \n",
    "        test_losses.append(test_loss / test_iters)\n",
    "        train_accs.append(train_acc / train_passed)\n",
    "        test_accs.append(test_acc / test_passed)\n",
    "            \n",
    "        print(\"Epoch: {}\\n Time taken: {:.2f}\\n train_loss: {}, train_acc: {} \\n test_loss: {}, test_acc: {}\\n\".format(\n",
    "            epoch+1, time.time() - start, train_loss / train_iters, train_acc / train_passed,\n",
    "            test_loss / test_iters, test_acc / test_passed)\n",
    "        )\n",
    "        \n",
    "    eps = range(1, num_epochs+1)\n",
    "    plt.plot(eps, train_losses, label='Train Loss')\n",
    "    plt.plot(eps, test_losses, label='Test Loss')\n",
    "    plt.plot(eps, train_accs, label='Train acc')\n",
    "    plt.plot(eps, test_accs, label='Test acc')\n",
    "    plt.xlabel('Epochs')\n",
    "    plt.ylabel('Loss/Accuracy')\n",
    "    plt.legend()\n",
    "    plt.show()"
   ]
  },
  {
   "cell_type": "code",
   "execution_count": 18,
   "id": "0193f09a",
   "metadata": {},
   "outputs": [],
   "source": [
    "model1 = torch.nn.Sequential(\n",
    "    torch.nn.Flatten(),\n",
    "    torch.nn.Linear(784, 512),\n",
    "    torch.nn.ReLU(),\n",
    "    torch.nn.BatchNorm1d(512),\n",
    "    #torch.nn.Dropout(p=0.4),\n",
    "    torch.nn.Linear(512, 256),\n",
    "    torch.nn.ReLU(),\n",
    "    torch.nn.BatchNorm1d(256),\n",
    "    #torch.nn.Dropout(p=0.3),\n",
    "    torch.nn.Linear(256, 128),\n",
    "    torch.nn.ReLU(),\n",
    "    torch.nn.BatchNorm1d(128),\n",
    "    #torch.nn.Dropout(p=0.3),\n",
    "    torch.nn.Linear(128, 64),\n",
    "    torch.nn.ReLU(),\n",
    "    torch.nn.BatchNorm1d(64),\n",
    "    #torch.nn.Dropout(p=0.3),\n",
    "    torch.nn.Linear(64,10)\n",
    "    \n",
    ")\n",
    "\n",
    "training1 = torch.optim.Adam(model1.parameters(), lr=.01)\n",
    "num_epochs1 = 15"
   ]
  },
  {
   "cell_type": "code",
   "execution_count": null,
   "id": "082d1689",
   "metadata": {},
   "outputs": [
    {
     "name": "stdout",
     "output_type": "stream",
     "text": [
      "Epoch: 1\n",
      " Time taken: 13.76\n",
      " train_loss: 0.5097837803333298, train_acc: 0.8136333333333333 \n",
      " test_loss: 0.49093989820419986, test_acc: 0.8377\n",
      "\n",
      "Epoch: 2\n",
      " Time taken: 14.70\n",
      " train_loss: 0.3974763386285127, train_acc: 0.8550333333333333 \n",
      " test_loss: 0.5175851402403433, test_acc: 0.8485\n",
      "\n",
      "Epoch: 3\n",
      " Time taken: 14.61\n",
      " train_loss: 0.3602225234322965, train_acc: 0.86845 \n",
      " test_loss: 0.4737863121907922, test_acc: 0.8587\n",
      "\n",
      "Epoch: 4\n",
      " Time taken: 14.92\n",
      " train_loss: 0.33999101375974317, train_acc: 0.8748666666666667 \n",
      " test_loss: 1.1486538314743886, test_acc: 0.8508\n",
      "\n",
      "Epoch: 5\n",
      " Time taken: 15.10\n",
      " train_loss: 0.3216397623454076, train_acc: 0.8815833333333334 \n",
      " test_loss: 0.8468356038196178, test_acc: 0.8629\n",
      "\n",
      "Epoch: 6\n",
      " Time taken: 15.72\n",
      " train_loss: 0.30816897594217046, train_acc: 0.8867166666666667 \n",
      " test_loss: 1.561607850503318, test_acc: 0.8711\n",
      "\n",
      "Epoch: 7\n",
      " Time taken: 15.35\n",
      " train_loss: 0.296114058430388, train_acc: 0.8896333333333334 \n",
      " test_loss: 0.8868862879049929, test_acc: 0.8637\n",
      "\n",
      "Epoch: 8\n",
      " Time taken: 15.10\n",
      " train_loss: 0.2867305483073314, train_acc: 0.8931833333333333 \n",
      " test_loss: 0.5193539133554772, test_acc: 0.8756\n",
      "\n",
      "Epoch: 9\n",
      " Time taken: 15.45\n",
      " train_loss: 0.27609882359184434, train_acc: 0.8978333333333334 \n",
      " test_loss: 1.5146697402189049, test_acc: 0.8743\n",
      "\n",
      "Epoch: 10\n",
      " Time taken: 15.31\n",
      " train_loss: 0.26442570730185966, train_acc: 0.9027 \n",
      " test_loss: 0.5853941673059252, test_acc: 0.8734\n",
      "\n",
      "Epoch: 11\n",
      " Time taken: 15.30\n",
      " train_loss: 0.2579414421307253, train_acc: 0.9031666666666667 \n",
      " test_loss: 0.9498445478421224, test_acc: 0.8792\n",
      "\n",
      "Epoch: 12\n",
      " Time taken: 16.38\n",
      " train_loss: 0.25297464160268496, train_acc: 0.9058333333333334 \n",
      " test_loss: 0.8561099694122242, test_acc: 0.8742\n",
      "\n",
      "Epoch: 13\n",
      " Time taken: 15.68\n",
      " train_loss: 0.24209025232141207, train_acc: 0.9098 \n",
      " test_loss: 0.5233886149487917, test_acc: 0.8815\n",
      "\n",
      "Epoch: 14\n",
      " Time taken: 14.95\n",
      " train_loss: 0.23360615655748065, train_acc: 0.9123833333333333 \n",
      " test_loss: 0.5105684194006498, test_acc: 0.8841\n",
      "\n",
      "Epoch: 15\n",
      " Time taken: 15.48\n",
      " train_loss: 0.2295611655470659, train_acc: 0.9141333333333334 \n",
      " test_loss: 0.8825061102456684, test_acc: 0.8755\n",
      "\n"
     ]
    }
   ],
   "source": [
    "trainer(model1, loss, training1, num_epochs1)"
   ]
  },
  {
   "cell_type": "code",
   "execution_count": null,
   "id": "bed2c782",
   "metadata": {},
   "outputs": [],
   "source": []
  }
 ],
 "metadata": {
  "kernelspec": {
   "display_name": "Python 3 (ipykernel)",
   "language": "python",
   "name": "python3"
  },
  "language_info": {
   "codemirror_mode": {
    "name": "ipython",
    "version": 3
   },
   "file_extension": ".py",
   "mimetype": "text/x-python",
   "name": "python",
   "nbconvert_exporter": "python",
   "pygments_lexer": "ipython3",
   "version": "3.11.3"
  }
 },
 "nbformat": 4,
 "nbformat_minor": 5
}
